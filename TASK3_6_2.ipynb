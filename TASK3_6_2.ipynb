{
  "nbformat": 4,
  "nbformat_minor": 0,
  "metadata": {
    "colab": {
      "provenance": []
    },
    "kernelspec": {
      "name": "python3",
      "display_name": "Python 3"
    },
    "language_info": {
      "name": "python"
    }
  },
  "cells": [
    {
      "cell_type": "code",
      "source": [
        "import pandas as pd"
      ],
      "metadata": {
        "id": "tizMtrKw4hA0"
      },
      "execution_count": null,
      "outputs": []
    },
    {
      "cell_type": "code",
      "source": [
        "pip install pyspark\n"
      ],
      "metadata": {
        "colab": {
          "base_uri": "https://localhost:8080/"
        },
        "id": "JCoABGaJ4rhS",
        "outputId": "bf549ae0-3bd5-43f4-a7af-bf8c95caa35f"
      },
      "execution_count": null,
      "outputs": [
        {
          "output_type": "stream",
          "name": "stdout",
          "text": [
            "Collecting pyspark\n",
            "  Downloading pyspark-3.5.1.tar.gz (317.0 MB)\n",
            "\u001b[2K     \u001b[90m━━━━━━━━━━━━━━━━━━━━━━━━━━━━━━━━━━━━━━━━\u001b[0m \u001b[32m317.0/317.0 MB\u001b[0m \u001b[31m2.5 MB/s\u001b[0m eta \u001b[36m0:00:00\u001b[0m\n",
            "\u001b[?25h  Preparing metadata (setup.py) ... \u001b[?25l\u001b[?25hdone\n",
            "Requirement already satisfied: py4j==0.10.9.7 in /usr/local/lib/python3.10/dist-packages (from pyspark) (0.10.9.7)\n",
            "Building wheels for collected packages: pyspark\n",
            "  Building wheel for pyspark (setup.py) ... \u001b[?25l\u001b[?25hdone\n",
            "  Created wheel for pyspark: filename=pyspark-3.5.1-py2.py3-none-any.whl size=317488491 sha256=234987995499e8aea28cf73c1874e52168236da52c616316f69588fcbb617621\n",
            "  Stored in directory: /root/.cache/pip/wheels/80/1d/60/2c256ed38dddce2fdd93be545214a63e02fbd8d74fb0b7f3a6\n",
            "Successfully built pyspark\n",
            "Installing collected packages: pyspark\n",
            "Successfully installed pyspark-3.5.1\n"
          ]
        }
      ]
    },
    {
      "cell_type": "code",
      "execution_count": 12,
      "metadata": {
        "colab": {
          "base_uri": "https://localhost:8080/"
        },
        "id": "t-Z5JaIe2gMV",
        "outputId": "09fc4bd1-3ed1-4387-f802-e96f49e6f1b0"
      },
      "outputs": [
        {
          "output_type": "stream",
          "name": "stdout",
          "text": [
            "+------+-------+----------+----+----------+\n",
            "|UserID|   Дата|   Продукт|Цена|Количество|\n",
            "+------+-------+----------+----+----------+\n",
            "|     0| молоко|2024-03-26| 484|        45|\n",
            "|     1|   хлеб|2024-02-10| 619|        88|\n",
            "|     2|  масло|2024-06-24| 379|        99|\n",
            "|     3|  крупа|2024-06-19| 883|        22|\n",
            "|     4|    сыр|2024-03-20| 219|        98|\n",
            "|     5|  кефир|2024-05-17| 411|        55|\n",
            "|     6|сметана|2024-05-24| 653|        73|\n",
            "|     7|ряженка|2024-04-22| 508|        42|\n",
            "|     8| бананы|2024-04-02| 705|        84|\n",
            "|     9| томаты|2024-01-30| 400|        46|\n",
            "|    10| яблоки|2024-02-15| 305|        27|\n",
            "|    11|   вода|2024-04-12| 394|        76|\n",
            "|    12| молоко|2024-03-16| 516|         3|\n",
            "|    13|   хлеб|2024-03-30| 969|        16|\n",
            "|    14|  масло|2024-03-31| 197|        18|\n",
            "|    15|  крупа|2024-06-20| 267|        60|\n",
            "|    16|    сыр|2024-02-07| 479|        57|\n",
            "|    17|  кефир|2024-02-12| 549|        87|\n",
            "|    18|сметана|2024-01-04| 709|        33|\n",
            "|    19|ряженка|2024-01-02| 364|        38|\n",
            "+------+-------+----------+----+----------+\n",
            "only showing top 20 rows\n",
            "\n"
          ]
        }
      ],
      "source": [
        "import numpy as np\n",
        "from pyspark.sql import SparkSession\n",
        "\n",
        "# Создание SparkSession\n",
        "spark = SparkSession.builder.appName(\"StudentCourseGradeDataFrame\").getOrCreate()\n",
        "\n",
        "# Генерация данных\n",
        "num_records = 1000\n",
        "start_date = pd.to_datetime('2024-01-01')\n",
        "end_date = pd.to_datetime('2024-06-30')\n",
        "\n",
        "# Создание диапазона дат\n",
        "date_range = pd.date_range(start_date, end_date)\n",
        "\n",
        "# Выбор случайных дат из диапазона\n",
        "random_dates = np.random.choice(date_range, num_records, replace=True)\n",
        "\n",
        "# Преобразование к строкам в формате YYYY-MM-DD\n",
        "dates_list = [pd.Timestamp(date).strftime('%Y-%m-%d') for date in random_dates]\n",
        "\n",
        "price = np.random.randint(100, 1000, size=num_records).tolist()\n",
        "quantity =  np.random.randint(2, 100, size=num_records).tolist()\n",
        "user_ids = [i for i in range(num_records)]\n",
        "\n",
        "products = (\"молоко\",\"хлеб\",\"масло\",\"крупа\",\"сыр\",\"кефир\",\"сметана\",\"ряженка\",\"бананы\",\"томаты\",\"яблоки\", \"вода\")\n",
        "products_ids = [products[i % len(products)] for i in range(num_records)]\n",
        "\n",
        "# Объединение данных в список кортежей\n",
        "product_data = list(zip(user_ids, products_ids, dates_list, price, quantity))\n",
        "# Определение схемы для данных студентов\n",
        "product = [\"UserID\", \"Дата\", \"Продукт\", \"Цена\", \"Количество\"]\n",
        "\n",
        "# Создание DataFrame для студентов\n",
        "product_dataframe = spark.createDataFrame(product_data, schema=product)\n",
        "product_dataframe.show()\n",
        "\n",
        "output_path = \"product_all.csv\"\n",
        "product_dataframe.write.csv(output_path, header=True, encoding='utf-8')\n"
      ]
    },
    {
      "cell_type": "code",
      "source": [
        "# Проверка наличия файла\n",
        "!ls /content\n",
        "\n"
      ],
      "metadata": {
        "colab": {
          "base_uri": "https://localhost:8080/"
        },
        "id": "O_5zvV4qOIes",
        "outputId": "f3891b83-099e-4568-c345-b63ae61faffe"
      },
      "execution_count": 13,
      "outputs": [
        {
          "output_type": "stream",
          "name": "stdout",
          "text": [
            "product_all.csv  product_combined.csv  product.csv  sample_data\n"
          ]
        }
      ]
    },
    {
      "cell_type": "code",
      "source": [
        "# Если файл разбит на несколько частей, объедините их в один файл\n",
        "!cat /content/product_all.csv/part* > /content/product_all_combined.csv\n",
        "\n",
        "# # Загрузка файла на локальный компьютер\n",
        "from google.colab import files\n",
        "files.download('/content/product_all_combined.csv')"
      ],
      "metadata": {
        "colab": {
          "base_uri": "https://localhost:8080/",
          "height": 17
        },
        "id": "23S_BH-WQbUA",
        "outputId": "38ce56f1-cc41-48cb-a2ab-7f1431435c90"
      },
      "execution_count": 14,
      "outputs": [
        {
          "output_type": "display_data",
          "data": {
            "text/plain": [
              "<IPython.core.display.Javascript object>"
            ],
            "application/javascript": [
              "\n",
              "    async function download(id, filename, size) {\n",
              "      if (!google.colab.kernel.accessAllowed) {\n",
              "        return;\n",
              "      }\n",
              "      const div = document.createElement('div');\n",
              "      const label = document.createElement('label');\n",
              "      label.textContent = `Downloading \"${filename}\": `;\n",
              "      div.appendChild(label);\n",
              "      const progress = document.createElement('progress');\n",
              "      progress.max = size;\n",
              "      div.appendChild(progress);\n",
              "      document.body.appendChild(div);\n",
              "\n",
              "      const buffers = [];\n",
              "      let downloaded = 0;\n",
              "\n",
              "      const channel = await google.colab.kernel.comms.open(id);\n",
              "      // Send a message to notify the kernel that we're ready.\n",
              "      channel.send({})\n",
              "\n",
              "      for await (const message of channel.messages) {\n",
              "        // Send a message to notify the kernel that we're ready.\n",
              "        channel.send({})\n",
              "        if (message.buffers) {\n",
              "          for (const buffer of message.buffers) {\n",
              "            buffers.push(buffer);\n",
              "            downloaded += buffer.byteLength;\n",
              "            progress.value = downloaded;\n",
              "          }\n",
              "        }\n",
              "      }\n",
              "      const blob = new Blob(buffers, {type: 'application/binary'});\n",
              "      const a = document.createElement('a');\n",
              "      a.href = window.URL.createObjectURL(blob);\n",
              "      a.download = filename;\n",
              "      div.appendChild(a);\n",
              "      a.click();\n",
              "      div.remove();\n",
              "    }\n",
              "  "
            ]
          },
          "metadata": {}
        },
        {
          "output_type": "display_data",
          "data": {
            "text/plain": [
              "<IPython.core.display.Javascript object>"
            ],
            "application/javascript": [
              "download(\"download_e983a317-7638-4f29-9e3f-7528ee161987\", \"product_all_combined.csv\", 33597)"
            ]
          },
          "metadata": {}
        }
      ]
    }
  ]
}