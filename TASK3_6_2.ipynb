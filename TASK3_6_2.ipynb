{
  "nbformat": 4,
  "nbformat_minor": 0,
  "metadata": {
    "colab": {
      "provenance": []
    },
    "kernelspec": {
      "name": "python3",
      "display_name": "Python 3"
    },
    "language_info": {
      "name": "python"
    }
  },
  "cells": [
    {
      "cell_type": "code",
      "source": [
        "import pandas as pd"
      ],
      "metadata": {
        "id": "tizMtrKw4hA0"
      },
      "execution_count": null,
      "outputs": []
    },
    {
      "cell_type": "code",
      "source": [
        "pip install pyspark\n"
      ],
      "metadata": {
        "colab": {
          "base_uri": "https://localhost:8080/"
        },
        "id": "JCoABGaJ4rhS",
        "outputId": "29c789d0-fa70-4925-d12c-b91086f15953"
      },
      "execution_count": null,
      "outputs": [
        {
          "output_type": "stream",
          "name": "stdout",
          "text": [
            "Collecting pyspark\n",
            "  Downloading pyspark-3.5.1.tar.gz (317.0 MB)\n",
            "\u001b[2K     \u001b[90m━━━━━━━━━━━━━━━━━━━━━━━━━━━━━━━━━━━━━━━━\u001b[0m \u001b[32m317.0/317.0 MB\u001b[0m \u001b[31m2.0 MB/s\u001b[0m eta \u001b[36m0:00:00\u001b[0m\n",
            "\u001b[?25h  Preparing metadata (setup.py) ... \u001b[?25l\u001b[?25hdone\n",
            "Requirement already satisfied: py4j==0.10.9.7 in /usr/local/lib/python3.10/dist-packages (from pyspark) (0.10.9.7)\n",
            "Building wheels for collected packages: pyspark\n",
            "  Building wheel for pyspark (setup.py) ... \u001b[?25l\u001b[?25hdone\n",
            "  Created wheel for pyspark: filename=pyspark-3.5.1-py2.py3-none-any.whl size=317488491 sha256=f1b8e795cefcbd381ee354004a94c7335f452a5ead7bb843c1e4cad8df33b742\n",
            "  Stored in directory: /root/.cache/pip/wheels/80/1d/60/2c256ed38dddce2fdd93be545214a63e02fbd8d74fb0b7f3a6\n",
            "Successfully built pyspark\n",
            "Installing collected packages: pyspark\n",
            "Successfully installed pyspark-3.5.1\n"
          ]
        }
      ]
    },
    {
      "cell_type": "code",
      "source": [
        "from pyspark.sql import SparkSession"
      ],
      "metadata": {
        "id": "Us_DwlRf432p"
      },
      "execution_count": null,
      "outputs": []
    },
    {
      "cell_type": "code",
      "execution_count": null,
      "metadata": {
        "colab": {
          "base_uri": "https://localhost:8080/"
        },
        "id": "t-Z5JaIe2gMV",
        "outputId": "c39e76a9-7318-481b-a6d5-ee57551a2c5c"
      },
      "outputs": [
        {
          "output_type": "stream",
          "name": "stdout",
          "text": [
            "+------+-------+----------+----+----------+\n",
            "|UserID|   Дата|   Продукт|Цена|Количество|\n",
            "+------+-------+----------+----+----------+\n",
            "|     0| молоко|2024-05-02| 363|        12|\n",
            "|     1|   хлеб|2024-02-11| 987|        40|\n",
            "|     2|  масло|2024-05-02| 641|        18|\n",
            "|     3|  крупа|2024-04-27| 862|        24|\n",
            "|     4|    сыр|2024-06-02| 518|        64|\n",
            "|     5|  кефир|2024-01-30| 153|        30|\n",
            "|     6|сметана|2024-04-06| 141|        82|\n",
            "|     7|ряженка|2024-04-16| 244|        54|\n",
            "|     8| бананы|2024-06-05| 836|        68|\n",
            "|     9| томаты|2024-04-06| 765|        41|\n",
            "|    10| яблоки|2024-01-13| 116|        45|\n",
            "|    11|   вода|2024-02-28| 795|        80|\n",
            "|    12| молоко|2024-02-14| 554|        60|\n",
            "|    13|   хлеб|2024-02-04| 722|        99|\n",
            "|    14|  масло|2024-02-05| 693|        94|\n",
            "|    15|  крупа|2024-05-26| 187|         5|\n",
            "|    16|    сыр|2024-06-26| 937|        55|\n",
            "|    17|  кефир|2024-05-23| 354|        52|\n",
            "|    18|сметана|2024-06-29| 447|        56|\n",
            "|    19|ряженка|2024-03-24| 189|        52|\n",
            "+------+-------+----------+----+----------+\n",
            "only showing top 20 rows\n",
            "\n"
          ]
        }
      ],
      "source": [
        "import numpy as np\n",
        "from pyspark.sql import SparkSession\n",
        "\n",
        "# Создание SparkSession\n",
        "spark = SparkSession.builder.appName(\"StudentCourseGradeDataFrame\").getOrCreate()\n",
        "\n",
        "# Генерация данных студентов\n",
        "# Генерация данных\n",
        "num_records = 1000\n",
        "start_date = pd.to_datetime('2024-01-01')\n",
        "end_date = pd.to_datetime('2024-06-30')\n",
        "\n",
        "# Создание диапазона дат\n",
        "date_range = pd.date_range(start_date, end_date)\n",
        "\n",
        "# Выбор случайных дат из диапазона\n",
        "random_dates = np.random.choice(date_range, num_records, replace=True)\n",
        "\n",
        "# Преобразование к строкам в формате YYYY-MM-DD\n",
        "dates_list = [pd.Timestamp(date).strftime('%Y-%m-%d') for date in random_dates]\n",
        "\n",
        "price = np.random.randint(100, 1000, size=num_records).tolist()\n",
        "quantity =  np.random.randint(2, 100, size=num_records).tolist()\n",
        "user_ids = [i for i in range(num_records)]\n",
        "\n",
        "products = (\"молоко\",\"хлеб\",\"масло\",\"крупа\",\"сыр\",\"кефир\",\"сметана\",\"ряженка\",\"бананы\",\"томаты\",\"яблоки\", \"вода\")\n",
        "products_ids = [products[i % len(products)] for i in range(num_records)]\n",
        "\n",
        "# Объединение данных в список кортежей\n",
        "product_data = list(zip(user_ids, products_ids, dates_list, price, quantity))\n",
        "# Определение схемы для данных студентов\n",
        "product = [\"UserID\", \"Дата\", \"Продукт\", \"Цена\", \"Количество\"]\n",
        "\n",
        "# Создание DataFrame для студентов\n",
        "product_dataframe = spark.createDataFrame(product_data, schema=product)\n",
        "product_dataframe.show()\n",
        "\n"
      ]
    }
  ]
}